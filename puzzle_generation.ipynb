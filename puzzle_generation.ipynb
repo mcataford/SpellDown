{
 "cells": [
  {
   "cell_type": "code",
   "execution_count": 1,
   "metadata": {},
   "outputs": [],
   "source": [
    "import requests\n",
    "\n",
    "from tqdm import tqdm"
   ]
  },
  {
   "cell_type": "markdown",
   "metadata": {},
   "source": [
    "## Fetching a dictionary and preparing a wordlist\n",
    "\n",
    "The dictionary used here is a standard dictionary of words allowed in English Scrabble."
   ]
  },
  {
   "cell_type": "code",
   "execution_count": 2,
   "metadata": {
    "scrolled": true
   },
   "outputs": [
    {
     "name": "stdout",
     "output_type": "stream",
     "text": [
      "276643 words in dictionary.\n"
     ]
    }
   ],
   "source": [
    "DICTIONARY_URL = 'https://misc-static.s3.amazonaws.com/words.txt'\n",
    "response = requests.get(DICTIONARY_URL)\n",
    "dictionary_words = response.text.split()\n",
    "\n",
    "def wordcount_report(words):\n",
    "    print('{wordcount} words in dictionary.'.format(wordcount=len(words)))\n",
    "\n",
    "wordcount_report(dictionary_words)"
   ]
  },
  {
   "cell_type": "markdown",
   "metadata": {},
   "source": [
    "We eliminate words that are shorter than 4 letters long to match the original NYT rules."
   ]
  },
  {
   "cell_type": "code",
   "execution_count": 3,
   "metadata": {},
   "outputs": [
    {
     "name": "stdout",
     "output_type": "stream",
     "text": [
      "275178 words in dictionary.\n"
     ]
    }
   ],
   "source": [
    "fl_words = [word for word in dictionary_words if len(word) >= 4]\n",
    "wordcount_report(fl_words)"
   ]
  },
  {
   "cell_type": "code",
   "execution_count": 4,
   "metadata": {
    "scrolled": true
   },
   "outputs": [
    {
     "name": "stdout",
     "output_type": "stream",
     "text": [
      "5625 words have 4 letters.\n",
      "12917 words have 5 letters.\n",
      "22938 words have 6 letters.\n",
      "34167 words have 7 letters.\n",
      "41882 words have 8 letters.\n",
      "42290 words have 9 letters.\n",
      "36593 words have 10 letters.\n",
      "28617 words have 11 letters.\n",
      "20775 words have 12 letters.\n",
      "14185 words have 13 letters.\n",
      "9312 words have 14 letters.\n",
      "5877 words have 15 letters.\n"
     ]
    }
   ],
   "source": [
    "by_length = {}\n",
    "\n",
    "for word in fl_words:\n",
    "    length = len(word)\n",
    "    by_length[length] = by_length.get(length, 0) + 1\n",
    "    \n",
    "for key in sorted(by_length.keys()):\n",
    "    print('{wordcount} words have {lettercount} letters.'.format(wordcount=by_length[key], lettercount=key))"
   ]
  },
  {
   "cell_type": "markdown",
   "metadata": {},
   "source": [
    "## Building puzzles via a reverse map strategy\n",
    "\n",
    "All puzzles are key:value pairs where the __key__ is a set of 7 letters that represent all the unique letters in a certain word grouping (letters can be duplicated within a word), and the __value__ is a list of words that can only contain letters from the 7-letters set.\n",
    "\n",
    "For example, a valid puzzle could be the following.\n",
    "```\n",
    "\"AEBRTPK\": [ \"BREAK\", \"BRAKE\", \"BRAT\", \"TRAP\"... ]\n",
    "```\n",
    "\n",
    "Instead of generating keys and finding words that can be associated with them, we first map all the words in the wordlist based on the set of letters needed to compose them. Letters that share the same set of letters are part of the same puzzle. In this scenario, we use a `frozenset` of letters as a key. At this point, keys are not necessarily 7 items long."
   ]
  },
  {
   "cell_type": "code",
   "execution_count": 5,
   "metadata": {
    "scrolled": true
   },
   "outputs": [
    {
     "name": "stderr",
     "output_type": "stream",
     "text": [
      "100%|██████████| 275178/275178 [00:01<00:00, 266561.64it/s]"
     ]
    },
    {
     "name": "stdout",
     "output_type": "stream",
     "text": [
      "104867 possible puzzles\n"
     ]
    },
    {
     "name": "stderr",
     "output_type": "stream",
     "text": [
      "\n"
     ]
    }
   ],
   "source": [
    "puzzles_rev_map = {}\n",
    "\n",
    "for word in tqdm(fl_words):\n",
    "    letter_set = frozenset(word)\n",
    "    puzzles_rev_map[letter_set] = puzzles_rev_map.get(letter_set, []) + [word]\n",
    "\n",
    "print('{classcount} possible puzzles'.format(classcount=len(puzzles_rev_map)))"
   ]
  },
  {
   "cell_type": "code",
   "execution_count": 6,
   "metadata": {
    "scrolled": true
   },
   "outputs": [
    {
     "name": "stderr",
     "output_type": "stream",
     "text": [
      "100%|██████████| 104867/104867 [00:32<00:00, 3226.13it/s]"
     ]
    },
    {
     "name": "stdout",
     "output_type": "stream",
     "text": [
      "There are 59 puzzles with 2 letters\n",
      "There are 680 puzzles with 3 letters\n",
      "There are 3546 puzzles with 4 letters\n",
      "There are 8503 puzzles with 5 letters\n",
      "There are 15026 puzzles with 6 letters\n",
      "There are 20852 puzzles with 7 letters\n",
      "There are 21870 puzzles with 8 letters\n",
      "There are 17419 puzzles with 9 letters\n",
      "There are 10476 puzzles with 10 letters\n",
      "There are 4803 puzzles with 11 letters\n",
      "There are 1399 puzzles with 12 letters\n",
      "There are 213 puzzles with 13 letters\n",
      "There are 19 puzzles with 14 letters\n",
      "There are 2 puzzles with 15 letters\n"
     ]
    },
    {
     "name": "stderr",
     "output_type": "stream",
     "text": [
      "\n"
     ]
    }
   ],
   "source": [
    "puzzles_by_length = {}\n",
    "\n",
    "for puzzle in tqdm(puzzles_rev_map.keys()):\n",
    "    puzzles_by_length[len(puzzle)] = puzzles_by_length.get(len(puzzle), []) + [puzzle]\n",
    "    \n",
    "for key in sorted(list(puzzles_by_length.keys())):\n",
    "    print('There are {} puzzles with {} letters'.format(len(puzzles_by_length[key]), key))"
   ]
  },
  {
   "cell_type": "markdown",
   "metadata": {},
   "source": [
    "## Combining smaller puzzles with their supersets\n",
    "\n",
    "To produce a list of 7-letter puzzles, we need to combine lower-tier puzzles with any puzzle that is their superset. For instance, two puzzles `\"ABC\"` and `\"AB\"` can contain different words, but all words that belong to `\"AB\"` are also possible under `\"ABC\"`. We will then collapse those two together such that `\"ABC\"` contains all the lower tier words that can be produced from a subset of its letters."
   ]
  },
  {
   "cell_type": "code",
   "execution_count": 7,
   "metadata": {
    "scrolled": true
   },
   "outputs": [
    {
     "name": "stderr",
     "output_type": "stream",
     "text": [
      "100%|██████████| 680/680 [00:00<00:00, 65682.40it/s]\n",
      "100%|██████████| 3546/3546 [00:00<00:00, 9208.75it/s]\n",
      "100%|██████████| 8503/8503 [00:04<00:00, 1929.44it/s]\n",
      "100%|██████████| 15026/15026 [00:46<00:00, 325.99it/s]\n",
      "100%|██████████| 20852/20852 [02:00<00:00, 172.77it/s]\n",
      "100%|██████████| 21870/21870 [03:01<00:00, 120.74it/s]\n"
     ]
    }
   ],
   "source": [
    "classes = sorted(list(puzzles_by_length.keys()))\n",
    "\n",
    "for index in range(len(classes)):\n",
    "    if index >= len(classes)+1 or classes[index] > 7:\n",
    "        break\n",
    "\n",
    "    current_class = puzzles_by_length[classes[index]]\n",
    "    next_class = puzzles_by_length[classes[index+1]]\n",
    "\n",
    "    for puzzle in tqdm(next_class):\n",
    "        for subpuzzle in current_class:\n",
    "            if puzzle.issuperset(subpuzzle):\n",
    "                puzzles_rev_map[puzzle] = list(set(puzzles_rev_map[puzzle] + puzzles_rev_map[subpuzzle]))"
   ]
  },
  {
   "cell_type": "markdown",
   "metadata": {},
   "source": [
    "We also attempt to eliminate puzzles that have less than 50 possible words or more than 100 to avoid having puzzles where the possible answer count is too large."
   ]
  },
  {
   "cell_type": "code",
   "execution_count": 8,
   "metadata": {},
   "outputs": [],
   "source": [
    "seven_letter_puzzles = puzzles_by_length[7]\n",
    "trimmed_puzzles = [puzzle for puzzle in seven_letter_puzzles if len(puzzles_rev_map[puzzle]) <= 100 and len(puzzles_rev_map[puzzle]) > 50]"
   ]
  },
  {
   "cell_type": "code",
   "execution_count": 9,
   "metadata": {
    "scrolled": false
   },
   "outputs": [
    {
     "data": {
      "text/plain": [
       "1195"
      ]
     },
     "execution_count": 9,
     "metadata": {},
     "output_type": "execute_result"
    }
   ],
   "source": [
    "puzzle_set = { ''.join(list(puzzle)):puzzles_rev_map[puzzle] for puzzle in trimmed_puzzles }\n",
    "len(puzzle_set)"
   ]
  },
  {
   "cell_type": "markdown",
   "metadata": {},
   "source": [
    "## Export\n",
    "\n",
    "Finally, we export the puzzle list (i.e. the list of key:value pairs discussed earlier) as JSON so that we can pull it and use it as a source of truth for puzzles.\n",
    "\n",
    "At this point, it contains more than "
   ]
  },
  {
   "cell_type": "code",
   "execution_count": 10,
   "metadata": {},
   "outputs": [
    {
     "name": "stdout",
     "output_type": "stream",
     "text": [
      "865770\n"
     ]
    }
   ],
   "source": [
    "import json\n",
    "\n",
    "\n",
    "encoded = json.dumps(puzzle_set).encode('utf-8')\n",
    "print(len(encoded))\n",
    "\n",
    "with open('test.txt', 'w') as outfile:\n",
    "    outfile.write(encoded.decode('utf-8'))"
   ]
  },
  {
   "cell_type": "code",
   "execution_count": null,
   "metadata": {},
   "outputs": [],
   "source": []
  }
 ],
 "metadata": {
  "kernelspec": {
   "display_name": "Python 3",
   "language": "python",
   "name": "python3"
  },
  "language_info": {
   "codemirror_mode": {
    "name": "ipython",
    "version": 3
   },
   "file_extension": ".py",
   "mimetype": "text/x-python",
   "name": "python",
   "nbconvert_exporter": "python",
   "pygments_lexer": "ipython3",
   "version": "3.6.8"
  }
 },
 "nbformat": 4,
 "nbformat_minor": 2
}
